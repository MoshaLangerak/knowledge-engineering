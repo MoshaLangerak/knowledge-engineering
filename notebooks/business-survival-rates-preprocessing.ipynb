{
 "cells": [
  {
   "cell_type": "markdown",
   "id": "ae1b8ca9",
   "metadata": {},
   "source": [
    "### Goal of this notebook is to process raw business survival rate data such that it can be appended to the Population nodes in the Knowledge graph"
   ]
  },
  {
   "cell_type": "code",
   "execution_count": 16,
   "id": "0894549d",
   "metadata": {},
   "outputs": [
    {
     "name": "stdout",
     "output_type": "stream",
     "text": [
      "(1020, 14)\n",
      "\n",
      "Null values per column:\n"
     ]
    },
    {
     "data": {
      "application/vnd.microsoft.datawrangler.viewer.v0+json": {
       "columns": [
        {
         "name": "index",
         "rawType": "object",
         "type": "string"
        },
        {
         "name": "0",
         "rawType": "int64",
         "type": "integer"
        }
       ],
       "ref": "8819ced7-c569-47e9-89fd-260be29e3ef2",
       "rows": [
        [
         "code",
         "0"
        ],
        [
         "area",
         "0"
        ],
        [
         "year",
         "0"
        ],
        [
         "births",
         "0"
        ],
        [
         "1_year_survival_number",
         "0"
        ],
        [
         "1_year_survival_rate",
         "0"
        ],
        [
         "2_year_survival_number",
         "51"
        ],
        [
         "2_year_survival_rate",
         "51"
        ],
        [
         "3_year_survival_number",
         "102"
        ],
        [
         "3_year_survival_rate",
         "102"
        ],
        [
         "4_year_survival_number",
         "153"
        ],
        [
         "4_year_survival_rate",
         "153"
        ],
        [
         "5_year_survival_number",
         "204"
        ],
        [
         "5_year_survival_rate",
         "204"
        ]
       ],
       "shape": {
        "columns": 1,
        "rows": 14
       }
      },
      "text/plain": [
       "code                        0\n",
       "area                        0\n",
       "year                        0\n",
       "births                      0\n",
       "1_year_survival_number      0\n",
       "1_year_survival_rate        0\n",
       "2_year_survival_number     51\n",
       "2_year_survival_rate       51\n",
       "3_year_survival_number    102\n",
       "3_year_survival_rate      102\n",
       "4_year_survival_number    153\n",
       "4_year_survival_rate      153\n",
       "5_year_survival_number    204\n",
       "5_year_survival_rate      204\n",
       "dtype: int64"
      ]
     },
     "execution_count": 16,
     "metadata": {},
     "output_type": "execute_result"
    }
   ],
   "source": [
    "import pandas as pd\n",
    "\n",
    "df = pd.read_csv(\"../data/raw/business-survival-rates.csv\", na_values=[';', 'NA', ':', ''])\n",
    "\n",
    "print(df.shape)\n",
    "print(\"\\nNull values per column:\")\n",
    "df.isna().sum()"
   ]
  },
  {
   "cell_type": "code",
   "execution_count": 17,
   "id": "946be46a",
   "metadata": {},
   "outputs": [
    {
     "name": "stdout",
     "output_type": "stream",
     "text": [
      "\n",
      "Year range: 2002 - 2021\n",
      "Number of boroughs: 51\n"
     ]
    }
   ],
   "source": [
    "years = df['year'].dropna().unique()\n",
    "years.sort()\n",
    "boroughs = df['area'].dropna().unique()\n",
    "boroughs.sort()\n",
    "\n",
    "print(f\"\\nYear range: {years[0]} - {years[-1]}\")\n",
    "print(f\"Number of boroughs: {len(boroughs)}\")"
   ]
  },
  {
   "cell_type": "code",
   "execution_count": 22,
   "id": "06acf62b",
   "metadata": {},
   "outputs": [
    {
     "name": "stdout",
     "output_type": "stream",
     "text": [
      "\n",
      "Summary statistics:\n"
     ]
    },
    {
     "data": {
      "application/vnd.microsoft.datawrangler.viewer.v0+json": {
       "columns": [
        {
         "name": "index",
         "rawType": "object",
         "type": "string"
        },
        {
         "name": "births",
         "rawType": "float64",
         "type": "float"
        },
        {
         "name": "1_year_survival_number",
         "rawType": "float64",
         "type": "float"
        },
        {
         "name": "1_year_survival_rate",
         "rawType": "float64",
         "type": "float"
        },
        {
         "name": "2_year_survival_number",
         "rawType": "float64",
         "type": "float"
        },
        {
         "name": "2_year_survival_rate",
         "rawType": "float64",
         "type": "float"
        },
        {
         "name": "3_year_survival_number",
         "rawType": "float64",
         "type": "float"
        },
        {
         "name": "3_year_survival_rate",
         "rawType": "float64",
         "type": "float"
        },
        {
         "name": "4_year_survival_number",
         "rawType": "float64",
         "type": "float"
        },
        {
         "name": "4_year_survival_rate",
         "rawType": "float64",
         "type": "float"
        },
        {
         "name": "5_year_survival_number",
         "rawType": "float64",
         "type": "float"
        },
        {
         "name": "5_year_survival_rate",
         "rawType": "float64",
         "type": "float"
        }
       ],
       "ref": "fe6a05b9-7dc6-41e8-9852-09326c1b42c8",
       "rows": [
        [
         "count",
         "1020.0",
         "1020.0",
         "1020.0",
         "969.0",
         "969.0",
         "918.0",
         "918.0",
         "867.0",
         "867.0",
         "816.0",
         "816.0"
        ],
        [
         "mean",
         "31464.833333333332",
         "29271.906862745098",
         "92.72186274509802",
         "23345.78431372549",
         "74.44953560371518",
         "18388.382352941175",
         "58.54161220043573",
         "15109.607843137255",
         "48.366897347174174",
         "12772.708333333334",
         "41.065318627450985"
        ],
        [
         "std",
         "78218.4778411202",
         "72921.97758214478",
         "3.4929288531677494",
         "57964.80399317211",
         "4.327230028797848",
         "45672.56287817972",
         "4.695703320818567",
         "37576.22138978047",
         "4.4517324071405175",
         "31818.114640589523",
         "4.17437530937329"
        ],
        [
         "min",
         "435.0",
         "410.0",
         "60.5",
         "335.0",
         "46.8",
         "250.0",
         "33.4",
         "205.0",
         "21.5",
         "170.0",
         "16.6"
        ],
        [
         "25%",
         "1575.0",
         "1445.0",
         "92.1",
         "1145.0",
         "72.3",
         "890.0",
         "55.8",
         "725.0",
         "45.8",
         "600.0",
         "38.7"
        ],
        [
         "50%",
         "2517.5",
         "2330.0",
         "93.5",
         "1815.0",
         "74.5",
         "1400.0",
         "58.6",
         "1130.0",
         "48.6",
         "942.5",
         "41.2"
        ],
        [
         "75%",
         "20406.25",
         "19268.75",
         "94.7",
         "15550.0",
         "77.2",
         "12386.25",
         "61.6",
         "10140.0",
         "51.2",
         "8615.0",
         "43.6"
        ],
        [
         "max",
         "397540.0",
         "378505.0",
         "100.0",
         "282775.0",
         "88.2",
         "215085.0",
         "71.1",
         "178505.0",
         "62.5",
         "152495.0",
         "56.2"
        ]
       ],
       "shape": {
        "columns": 11,
        "rows": 8
       }
      },
      "text/html": [
       "<div>\n",
       "<style scoped>\n",
       "    .dataframe tbody tr th:only-of-type {\n",
       "        vertical-align: middle;\n",
       "    }\n",
       "\n",
       "    .dataframe tbody tr th {\n",
       "        vertical-align: top;\n",
       "    }\n",
       "\n",
       "    .dataframe thead th {\n",
       "        text-align: right;\n",
       "    }\n",
       "</style>\n",
       "<table border=\"1\" class=\"dataframe\">\n",
       "  <thead>\n",
       "    <tr style=\"text-align: right;\">\n",
       "      <th></th>\n",
       "      <th>births</th>\n",
       "      <th>1_year_survival_number</th>\n",
       "      <th>1_year_survival_rate</th>\n",
       "      <th>2_year_survival_number</th>\n",
       "      <th>2_year_survival_rate</th>\n",
       "      <th>3_year_survival_number</th>\n",
       "      <th>3_year_survival_rate</th>\n",
       "      <th>4_year_survival_number</th>\n",
       "      <th>4_year_survival_rate</th>\n",
       "      <th>5_year_survival_number</th>\n",
       "      <th>5_year_survival_rate</th>\n",
       "    </tr>\n",
       "  </thead>\n",
       "  <tbody>\n",
       "    <tr>\n",
       "      <th>count</th>\n",
       "      <td>1020.000000</td>\n",
       "      <td>1020.000000</td>\n",
       "      <td>1020.000000</td>\n",
       "      <td>969.000000</td>\n",
       "      <td>969.000000</td>\n",
       "      <td>918.000000</td>\n",
       "      <td>918.000000</td>\n",
       "      <td>867.000000</td>\n",
       "      <td>867.000000</td>\n",
       "      <td>816.000000</td>\n",
       "      <td>816.000000</td>\n",
       "    </tr>\n",
       "    <tr>\n",
       "      <th>mean</th>\n",
       "      <td>31464.833333</td>\n",
       "      <td>29271.906863</td>\n",
       "      <td>92.721863</td>\n",
       "      <td>23345.784314</td>\n",
       "      <td>74.449536</td>\n",
       "      <td>18388.382353</td>\n",
       "      <td>58.541612</td>\n",
       "      <td>15109.607843</td>\n",
       "      <td>48.366897</td>\n",
       "      <td>12772.708333</td>\n",
       "      <td>41.065319</td>\n",
       "    </tr>\n",
       "    <tr>\n",
       "      <th>std</th>\n",
       "      <td>78218.477841</td>\n",
       "      <td>72921.977582</td>\n",
       "      <td>3.492929</td>\n",
       "      <td>57964.803993</td>\n",
       "      <td>4.327230</td>\n",
       "      <td>45672.562878</td>\n",
       "      <td>4.695703</td>\n",
       "      <td>37576.221390</td>\n",
       "      <td>4.451732</td>\n",
       "      <td>31818.114641</td>\n",
       "      <td>4.174375</td>\n",
       "    </tr>\n",
       "    <tr>\n",
       "      <th>min</th>\n",
       "      <td>435.000000</td>\n",
       "      <td>410.000000</td>\n",
       "      <td>60.500000</td>\n",
       "      <td>335.000000</td>\n",
       "      <td>46.800000</td>\n",
       "      <td>250.000000</td>\n",
       "      <td>33.400000</td>\n",
       "      <td>205.000000</td>\n",
       "      <td>21.500000</td>\n",
       "      <td>170.000000</td>\n",
       "      <td>16.600000</td>\n",
       "    </tr>\n",
       "    <tr>\n",
       "      <th>25%</th>\n",
       "      <td>1575.000000</td>\n",
       "      <td>1445.000000</td>\n",
       "      <td>92.100000</td>\n",
       "      <td>1145.000000</td>\n",
       "      <td>72.300000</td>\n",
       "      <td>890.000000</td>\n",
       "      <td>55.800000</td>\n",
       "      <td>725.000000</td>\n",
       "      <td>45.800000</td>\n",
       "      <td>600.000000</td>\n",
       "      <td>38.700000</td>\n",
       "    </tr>\n",
       "    <tr>\n",
       "      <th>50%</th>\n",
       "      <td>2517.500000</td>\n",
       "      <td>2330.000000</td>\n",
       "      <td>93.500000</td>\n",
       "      <td>1815.000000</td>\n",
       "      <td>74.500000</td>\n",
       "      <td>1400.000000</td>\n",
       "      <td>58.600000</td>\n",
       "      <td>1130.000000</td>\n",
       "      <td>48.600000</td>\n",
       "      <td>942.500000</td>\n",
       "      <td>41.200000</td>\n",
       "    </tr>\n",
       "    <tr>\n",
       "      <th>75%</th>\n",
       "      <td>20406.250000</td>\n",
       "      <td>19268.750000</td>\n",
       "      <td>94.700000</td>\n",
       "      <td>15550.000000</td>\n",
       "      <td>77.200000</td>\n",
       "      <td>12386.250000</td>\n",
       "      <td>61.600000</td>\n",
       "      <td>10140.000000</td>\n",
       "      <td>51.200000</td>\n",
       "      <td>8615.000000</td>\n",
       "      <td>43.600000</td>\n",
       "    </tr>\n",
       "    <tr>\n",
       "      <th>max</th>\n",
       "      <td>397540.000000</td>\n",
       "      <td>378505.000000</td>\n",
       "      <td>100.000000</td>\n",
       "      <td>282775.000000</td>\n",
       "      <td>88.200000</td>\n",
       "      <td>215085.000000</td>\n",
       "      <td>71.100000</td>\n",
       "      <td>178505.000000</td>\n",
       "      <td>62.500000</td>\n",
       "      <td>152495.000000</td>\n",
       "      <td>56.200000</td>\n",
       "    </tr>\n",
       "  </tbody>\n",
       "</table>\n",
       "</div>"
      ],
      "text/plain": [
       "              births  1_year_survival_number  1_year_survival_rate  \\\n",
       "count    1020.000000             1020.000000           1020.000000   \n",
       "mean    31464.833333            29271.906863             92.721863   \n",
       "std     78218.477841            72921.977582              3.492929   \n",
       "min       435.000000              410.000000             60.500000   \n",
       "25%      1575.000000             1445.000000             92.100000   \n",
       "50%      2517.500000             2330.000000             93.500000   \n",
       "75%     20406.250000            19268.750000             94.700000   \n",
       "max    397540.000000           378505.000000            100.000000   \n",
       "\n",
       "       2_year_survival_number  2_year_survival_rate  3_year_survival_number  \\\n",
       "count              969.000000            969.000000              918.000000   \n",
       "mean             23345.784314             74.449536            18388.382353   \n",
       "std              57964.803993              4.327230            45672.562878   \n",
       "min                335.000000             46.800000              250.000000   \n",
       "25%               1145.000000             72.300000              890.000000   \n",
       "50%               1815.000000             74.500000             1400.000000   \n",
       "75%              15550.000000             77.200000            12386.250000   \n",
       "max             282775.000000             88.200000           215085.000000   \n",
       "\n",
       "       3_year_survival_rate  4_year_survival_number  4_year_survival_rate  \\\n",
       "count            918.000000              867.000000            867.000000   \n",
       "mean              58.541612            15109.607843             48.366897   \n",
       "std                4.695703            37576.221390              4.451732   \n",
       "min               33.400000              205.000000             21.500000   \n",
       "25%               55.800000              725.000000             45.800000   \n",
       "50%               58.600000             1130.000000             48.600000   \n",
       "75%               61.600000            10140.000000             51.200000   \n",
       "max               71.100000           178505.000000             62.500000   \n",
       "\n",
       "       5_year_survival_number  5_year_survival_rate  \n",
       "count              816.000000            816.000000  \n",
       "mean             12772.708333             41.065319  \n",
       "std              31818.114641              4.174375  \n",
       "min                170.000000             16.600000  \n",
       "25%                600.000000             38.700000  \n",
       "50%                942.500000             41.200000  \n",
       "75%               8615.000000             43.600000  \n",
       "max             152495.000000             56.200000  "
      ]
     },
     "execution_count": 22,
     "metadata": {},
     "output_type": "execute_result"
    }
   ],
   "source": [
    "numeric_cols = df.select_dtypes(include='number').columns\n",
    "for col in numeric_cols:\n",
    "    if (df[col] < 0).any():\n",
    "        print(f\"Warning: Negative values found in column '{col}'\")\n",
    "\n",
    "# 6. Show summary statistics\n",
    "print(\"\\nSummary statistics:\")\n",
    "df.drop(columns=['code', 'area', 'year']).describe()"
   ]
  },
  {
   "cell_type": "code",
   "execution_count": 24,
   "id": "a9c1ebc4",
   "metadata": {},
   "outputs": [
    {
     "name": "stdout",
     "output_type": "stream",
     "text": [
      "Number of boroughs in businesses dataset: 33\n",
      "Number of boroughs in survival rates dataset: 51\n",
      "Boroughs in businesses but not in survival rates: set()\n",
      "Boroughs in survival rates but not in businesses: {'Inner London', 'Scotland', 'West Midlands', 'South West', 'South East', 'North East', 'Great Britain', 'North West', 'England', 'Yorkshire And The Humber', 'East', 'London', 'East Midlands', 'Wales', 'United Kingdom', 'Outer London', 'England And Wales', 'Northern Ireland'}\n"
     ]
    }
   ],
   "source": [
    "businesses_data_file_path = '../data/processed/businesses_with_boroughs.csv'\n",
    "businesses_df = pd.read_csv(businesses_data_file_path)\n",
    "businesses_boroughs = businesses_df['area'].dropna().unique()\n",
    "print(f\"Number of boroughs in businesses dataset: {len(businesses_boroughs)}\")\n",
    "\n",
    "# Compare with survival rates dataset boroughs\n",
    "print(f\"Number of boroughs in survival rates dataset: {len(boroughs)}\")\n",
    "\n",
    "# Boroughs in businesses but not in survival rates\n",
    "missing_in_survival = set(businesses_boroughs) - set(boroughs)\n",
    "print(f\"Boroughs in businesses but not in survival rates: {missing_in_survival}\")\n",
    "\n",
    "# Boroughs in survival rates but not in businesses\n",
    "missing_in_businesses = set(boroughs) - set(businesses_boroughs)\n",
    "print(f\"Boroughs in survival rates but not in businesses: {missing_in_businesses}\")"
   ]
  },
  {
   "cell_type": "markdown",
   "id": "e1c6ae5a",
   "metadata": {},
   "source": [
    "TODO: remove irrelevant 'boroughs' from survival rates dataset. Perhaps do keep aggregates and nation-wide: [London, Inner/Outer London, Great Britain]"
   ]
  }
 ],
 "metadata": {
  "kernelspec": {
   "display_name": "3.12.8",
   "language": "python",
   "name": "python3"
  },
  "language_info": {
   "codemirror_mode": {
    "name": "ipython",
    "version": 3
   },
   "file_extension": ".py",
   "mimetype": "text/x-python",
   "name": "python",
   "nbconvert_exporter": "python",
   "pygments_lexer": "ipython3",
   "version": "3.12.8"
  }
 },
 "nbformat": 4,
 "nbformat_minor": 5
}
