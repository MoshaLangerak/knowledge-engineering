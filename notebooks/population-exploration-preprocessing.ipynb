{
 "cells": [
  {
   "cell_type": "code",
   "execution_count": 1,
   "id": "76701840",
   "metadata": {},
   "outputs": [],
   "source": [
    "import pandas as pd"
   ]
  },
  {
   "cell_type": "code",
   "execution_count": 2,
   "id": "86104be6",
   "metadata": {},
   "outputs": [],
   "source": [
    "population_data_file_path = '../data/raw/Population by borough 1939 to 2039.xlsx'\n",
    "population_data = pd.read_excel(\n",
    "    population_data_file_path,\n",
    "    sheet_name='Population',\n",
    "    skiprows=3,\n",
    "    usecols='B:P',\n",
    "    na_values=['n/a', 'N/A', 'N/A', 'n/a'],\n",
    "    engine='openpyxl'\n",
    ")\n",
    "\n",
    "# Combine the first two rows into a single header\n",
    "population_data.columns = [\n",
    "    f\"{col1} {col2}\" if pd.notna(col1) & pd.notna(col2) else (col1 if pd.notna(col1) else col2)\n",
    "    for col1, col2 in zip(population_data.iloc[0], population_data.iloc[1])\n",
    "]\n",
    "\n",
    "# Drop the first three rows\n",
    "population_data = population_data.drop(index=[0, 1, 2])\n",
    "\n",
    "# Drop all columns with all NaN values\n",
    "population_data = population_data.dropna(axis=1, how='all')\n",
    "\n",
    "# Drop all rows with all NaN values\n",
    "population_data = population_data.dropna(axis=0, how='all')\n",
    "\n",
    "# Drop the last 6 rows\n",
    "population_data = population_data.drop(index=population_data.index[-6:])\n",
    "\n",
    "# Reset the index\n",
    "population_data = population_data.reset_index(drop=True)\n",
    "\n",
    "# Multiply the values in the population columns by 1000\n",
    "population_columns = [\n",
    "    'mid-year estimate 1939', \n",
    "    'mid-year estimate 1988',\n",
    "    'Census 2011',\n",
    "    'Projection 2015',\n",
    "    'Projection 2021',\n",
    "    'Projection 2031',\n",
    "    'Projection 2039',\n",
    "]\n",
    "for col in population_columns:\n",
    "    population_data[col] = population_data[col].astype(str).str.replace(' ', '').str.replace(',', '').astype(float) * 1000\n",
    "    population_data[col] = population_data[col].astype(int)\n",
    "\n",
    "# Drop the columns with NaN as the name\n",
    "population_data = population_data.loc[:, ~population_data.columns.isna()]"
   ]
  },
  {
   "cell_type": "code",
   "execution_count": 3,
   "id": "51c7aa9d",
   "metadata": {},
   "outputs": [],
   "source": [
    "population_data.to_csv(\n",
    "    '../data/processed/population_by_borough.csv',\n",
    "    index=False,\n",
    "    header=True,\n",
    "    encoding='utf-8'\n",
    ")"
   ]
  }
 ],
 "metadata": {
  "kernelspec": {
   "display_name": ".venv",
   "language": "python",
   "name": "python3"
  },
  "language_info": {
   "codemirror_mode": {
    "name": "ipython",
    "version": 3
   },
   "file_extension": ".py",
   "mimetype": "text/x-python",
   "name": "python",
   "nbconvert_exporter": "python",
   "pygments_lexer": "ipython3",
   "version": "3.10.14"
  }
 },
 "nbformat": 4,
 "nbformat_minor": 5
}
