{
 "cells": [
  {
   "cell_type": "code",
   "execution_count": 27,
   "id": "724b0736",
   "metadata": {},
   "outputs": [
    {
     "name": "stdout",
     "output_type": "stream",
     "text": [
      "33 boroughs are present in both datasets (out of 34 in businesses data and 36 in population data):\n"
     ]
    }
   ],
   "source": [
    "import pandas as pd\n",
    "businesses_data_file_path = '../data/processed/businesses_with_boroughs.csv'\n",
    "population_data_file_path = '../data/processed/population_by_borough.csv'\n",
    "\n",
    "businesses_data = pd.read_csv(businesses_data_file_path)\n",
    "population_data = pd.read_csv(population_data_file_path)\n",
    "\n",
    "businesses_data_boroughs = businesses_data['area'].unique()\n",
    "population_data_boroughs = population_data['area_name'].unique()\n",
    "\n",
    "overlapping_boroughs = set(businesses_data_boroughs).intersection(set(population_data_boroughs))\n",
    "print(f'{len(overlapping_boroughs)} boroughs are present in both datasets (out of {len(businesses_data_boroughs)} in businesses data and {len(population_data_boroughs)} in population data):')"
   ]
  },
  {
   "cell_type": "code",
   "execution_count": 28,
   "id": "8ae23453",
   "metadata": {},
   "outputs": [
    {
     "data": {
      "application/vnd.microsoft.datawrangler.viewer.v0+json": {
       "columns": [
        {
         "name": "index",
         "rawType": "int64",
         "type": "integer"
        },
        {
         "name": "Matching Boroughs",
         "rawType": "object",
         "type": "string"
        },
        {
         "name": "Only in Businesses Data",
         "rawType": "object",
         "type": "unknown"
        },
        {
         "name": "Only in Population Data",
         "rawType": "object",
         "type": "string"
        }
       ],
       "ref": "77c2b51d-3ebd-4a6c-9312-1ad49d27b850",
       "rows": [
        [
         "0",
         "Bexley",
         null,
         "Inner London"
        ],
        [
         "1",
         "Greenwich",
         "",
         "Greater London"
        ],
        [
         "2",
         "Wandsworth",
         "",
         "Outer London"
        ],
        [
         "3",
         "Harrow",
         "",
         ""
        ],
        [
         "4",
         "Croydon",
         "",
         ""
        ],
        [
         "5",
         "City of London",
         "",
         ""
        ],
        [
         "6",
         "Islington",
         "",
         ""
        ],
        [
         "7",
         "Waltham Forest",
         "",
         ""
        ],
        [
         "8",
         "Newham",
         "",
         ""
        ],
        [
         "9",
         "Merton",
         "",
         ""
        ],
        [
         "10",
         "Westminster",
         "",
         ""
        ],
        [
         "11",
         "Kensington and Chelsea",
         "",
         ""
        ],
        [
         "12",
         "Redbridge",
         "",
         ""
        ],
        [
         "13",
         "Lewisham",
         "",
         ""
        ],
        [
         "14",
         "Richmond upon Thames",
         "",
         ""
        ],
        [
         "15",
         "Barking and Dagenham",
         "",
         ""
        ],
        [
         "16",
         "Hackney",
         "",
         ""
        ],
        [
         "17",
         "Bromley",
         "",
         ""
        ],
        [
         "18",
         "Havering",
         "",
         ""
        ],
        [
         "19",
         "Southwark",
         "",
         ""
        ],
        [
         "20",
         "Hillingdon",
         "",
         ""
        ],
        [
         "21",
         "Lambeth",
         "",
         ""
        ],
        [
         "22",
         "Tower Hamlets",
         "",
         ""
        ],
        [
         "23",
         "Kingston upon Thames",
         "",
         ""
        ],
        [
         "24",
         "Ealing",
         "",
         ""
        ],
        [
         "25",
         "Hammersmith and Fulham",
         "",
         ""
        ],
        [
         "26",
         "Enfield",
         "",
         ""
        ],
        [
         "27",
         "Sutton",
         "",
         ""
        ],
        [
         "28",
         "Hounslow",
         "",
         ""
        ],
        [
         "29",
         "Camden",
         "",
         ""
        ],
        [
         "30",
         "Brent",
         "",
         ""
        ],
        [
         "31",
         "Barnet",
         "",
         ""
        ],
        [
         "32",
         "Haringey",
         "",
         ""
        ]
       ],
       "shape": {
        "columns": 3,
        "rows": 33
       }
      },
      "text/html": [
       "<div>\n",
       "<style scoped>\n",
       "    .dataframe tbody tr th:only-of-type {\n",
       "        vertical-align: middle;\n",
       "    }\n",
       "\n",
       "    .dataframe tbody tr th {\n",
       "        vertical-align: top;\n",
       "    }\n",
       "\n",
       "    .dataframe thead th {\n",
       "        text-align: right;\n",
       "    }\n",
       "</style>\n",
       "<table border=\"1\" class=\"dataframe\">\n",
       "  <thead>\n",
       "    <tr style=\"text-align: right;\">\n",
       "      <th></th>\n",
       "      <th>Matching Boroughs</th>\n",
       "      <th>Only in Businesses Data</th>\n",
       "      <th>Only in Population Data</th>\n",
       "    </tr>\n",
       "  </thead>\n",
       "  <tbody>\n",
       "    <tr>\n",
       "      <th>0</th>\n",
       "      <td>Bexley</td>\n",
       "      <td>NaN</td>\n",
       "      <td>Inner London</td>\n",
       "    </tr>\n",
       "    <tr>\n",
       "      <th>1</th>\n",
       "      <td>Greenwich</td>\n",
       "      <td></td>\n",
       "      <td>Greater London</td>\n",
       "    </tr>\n",
       "    <tr>\n",
       "      <th>2</th>\n",
       "      <td>Wandsworth</td>\n",
       "      <td></td>\n",
       "      <td>Outer London</td>\n",
       "    </tr>\n",
       "    <tr>\n",
       "      <th>3</th>\n",
       "      <td>Harrow</td>\n",
       "      <td></td>\n",
       "      <td></td>\n",
       "    </tr>\n",
       "    <tr>\n",
       "      <th>4</th>\n",
       "      <td>Croydon</td>\n",
       "      <td></td>\n",
       "      <td></td>\n",
       "    </tr>\n",
       "    <tr>\n",
       "      <th>5</th>\n",
       "      <td>City of London</td>\n",
       "      <td></td>\n",
       "      <td></td>\n",
       "    </tr>\n",
       "    <tr>\n",
       "      <th>6</th>\n",
       "      <td>Islington</td>\n",
       "      <td></td>\n",
       "      <td></td>\n",
       "    </tr>\n",
       "    <tr>\n",
       "      <th>7</th>\n",
       "      <td>Waltham Forest</td>\n",
       "      <td></td>\n",
       "      <td></td>\n",
       "    </tr>\n",
       "    <tr>\n",
       "      <th>8</th>\n",
       "      <td>Newham</td>\n",
       "      <td></td>\n",
       "      <td></td>\n",
       "    </tr>\n",
       "    <tr>\n",
       "      <th>9</th>\n",
       "      <td>Merton</td>\n",
       "      <td></td>\n",
       "      <td></td>\n",
       "    </tr>\n",
       "    <tr>\n",
       "      <th>10</th>\n",
       "      <td>Westminster</td>\n",
       "      <td></td>\n",
       "      <td></td>\n",
       "    </tr>\n",
       "    <tr>\n",
       "      <th>11</th>\n",
       "      <td>Kensington and Chelsea</td>\n",
       "      <td></td>\n",
       "      <td></td>\n",
       "    </tr>\n",
       "    <tr>\n",
       "      <th>12</th>\n",
       "      <td>Redbridge</td>\n",
       "      <td></td>\n",
       "      <td></td>\n",
       "    </tr>\n",
       "    <tr>\n",
       "      <th>13</th>\n",
       "      <td>Lewisham</td>\n",
       "      <td></td>\n",
       "      <td></td>\n",
       "    </tr>\n",
       "    <tr>\n",
       "      <th>14</th>\n",
       "      <td>Richmond upon Thames</td>\n",
       "      <td></td>\n",
       "      <td></td>\n",
       "    </tr>\n",
       "    <tr>\n",
       "      <th>15</th>\n",
       "      <td>Barking and Dagenham</td>\n",
       "      <td></td>\n",
       "      <td></td>\n",
       "    </tr>\n",
       "    <tr>\n",
       "      <th>16</th>\n",
       "      <td>Hackney</td>\n",
       "      <td></td>\n",
       "      <td></td>\n",
       "    </tr>\n",
       "    <tr>\n",
       "      <th>17</th>\n",
       "      <td>Bromley</td>\n",
       "      <td></td>\n",
       "      <td></td>\n",
       "    </tr>\n",
       "    <tr>\n",
       "      <th>18</th>\n",
       "      <td>Havering</td>\n",
       "      <td></td>\n",
       "      <td></td>\n",
       "    </tr>\n",
       "    <tr>\n",
       "      <th>19</th>\n",
       "      <td>Southwark</td>\n",
       "      <td></td>\n",
       "      <td></td>\n",
       "    </tr>\n",
       "    <tr>\n",
       "      <th>20</th>\n",
       "      <td>Hillingdon</td>\n",
       "      <td></td>\n",
       "      <td></td>\n",
       "    </tr>\n",
       "    <tr>\n",
       "      <th>21</th>\n",
       "      <td>Lambeth</td>\n",
       "      <td></td>\n",
       "      <td></td>\n",
       "    </tr>\n",
       "    <tr>\n",
       "      <th>22</th>\n",
       "      <td>Tower Hamlets</td>\n",
       "      <td></td>\n",
       "      <td></td>\n",
       "    </tr>\n",
       "    <tr>\n",
       "      <th>23</th>\n",
       "      <td>Kingston upon Thames</td>\n",
       "      <td></td>\n",
       "      <td></td>\n",
       "    </tr>\n",
       "    <tr>\n",
       "      <th>24</th>\n",
       "      <td>Ealing</td>\n",
       "      <td></td>\n",
       "      <td></td>\n",
       "    </tr>\n",
       "    <tr>\n",
       "      <th>25</th>\n",
       "      <td>Hammersmith and Fulham</td>\n",
       "      <td></td>\n",
       "      <td></td>\n",
       "    </tr>\n",
       "    <tr>\n",
       "      <th>26</th>\n",
       "      <td>Enfield</td>\n",
       "      <td></td>\n",
       "      <td></td>\n",
       "    </tr>\n",
       "    <tr>\n",
       "      <th>27</th>\n",
       "      <td>Sutton</td>\n",
       "      <td></td>\n",
       "      <td></td>\n",
       "    </tr>\n",
       "    <tr>\n",
       "      <th>28</th>\n",
       "      <td>Hounslow</td>\n",
       "      <td></td>\n",
       "      <td></td>\n",
       "    </tr>\n",
       "    <tr>\n",
       "      <th>29</th>\n",
       "      <td>Camden</td>\n",
       "      <td></td>\n",
       "      <td></td>\n",
       "    </tr>\n",
       "    <tr>\n",
       "      <th>30</th>\n",
       "      <td>Brent</td>\n",
       "      <td></td>\n",
       "      <td></td>\n",
       "    </tr>\n",
       "    <tr>\n",
       "      <th>31</th>\n",
       "      <td>Barnet</td>\n",
       "      <td></td>\n",
       "      <td></td>\n",
       "    </tr>\n",
       "    <tr>\n",
       "      <th>32</th>\n",
       "      <td>Haringey</td>\n",
       "      <td></td>\n",
       "      <td></td>\n",
       "    </tr>\n",
       "  </tbody>\n",
       "</table>\n",
       "</div>"
      ],
      "text/plain": [
       "         Matching Boroughs Only in Businesses Data Only in Population Data\n",
       "0                   Bexley                     NaN            Inner London\n",
       "1                Greenwich                                  Greater London\n",
       "2               Wandsworth                                    Outer London\n",
       "3                   Harrow                                                \n",
       "4                  Croydon                                                \n",
       "5           City of London                                                \n",
       "6                Islington                                                \n",
       "7           Waltham Forest                                                \n",
       "8                   Newham                                                \n",
       "9                   Merton                                                \n",
       "10             Westminster                                                \n",
       "11  Kensington and Chelsea                                                \n",
       "12               Redbridge                                                \n",
       "13                Lewisham                                                \n",
       "14    Richmond upon Thames                                                \n",
       "15    Barking and Dagenham                                                \n",
       "16                 Hackney                                                \n",
       "17                 Bromley                                                \n",
       "18                Havering                                                \n",
       "19               Southwark                                                \n",
       "20              Hillingdon                                                \n",
       "21                 Lambeth                                                \n",
       "22           Tower Hamlets                                                \n",
       "23    Kingston upon Thames                                                \n",
       "24                  Ealing                                                \n",
       "25  Hammersmith and Fulham                                                \n",
       "26                 Enfield                                                \n",
       "27                  Sutton                                                \n",
       "28                Hounslow                                                \n",
       "29                  Camden                                                \n",
       "30                   Brent                                                \n",
       "31                  Barnet                                                \n",
       "32                Haringey                                                "
      ]
     },
     "execution_count": 28,
     "metadata": {},
     "output_type": "execute_result"
    }
   ],
   "source": [
    "matching_boroughs = set(businesses_data_boroughs).intersection(population_data_boroughs)\n",
    "only_in_businesses = set(businesses_data_boroughs) - set(population_data_boroughs)\n",
    "only_in_population = set(population_data_boroughs) - set(businesses_data_boroughs)\n",
    "\n",
    "# Create a DataFrame\n",
    "max_len = max(len(matching_boroughs), len(only_in_businesses), len(only_in_population))\n",
    "data = {\n",
    "    \"Matching Boroughs\": list(matching_boroughs) + [\"\"] * (max_len - len(matching_boroughs)),\n",
    "    \"Only in Businesses Data\": list(only_in_businesses) + [\"\"] * (max_len - len(only_in_businesses)),\n",
    "    \"Only in Population Data\": list(only_in_population) + [\"\"] * (max_len - len(only_in_population)),\n",
    "}\n",
    "\n",
    "boroughs_comparison_df = pd.DataFrame(data)\n",
    "\n",
    "boroughs_comparison_df"
   ]
  },
  {
   "cell_type": "code",
   "execution_count": null,
   "id": "77833498",
   "metadata": {},
   "outputs": [
    {
     "name": "stdout",
     "output_type": "stream",
     "text": [
      "40 out of 40 have geometry.\n",
      "11 out of 40 have street_name.\n"
     ]
    }
   ],
   "source": [
    "# There are 40 businesses with missing area in the businesses data. \n",
    "# Let's check if we can find these in the businesses_with_streets.csv file.\n",
    "\n",
    "# Load the businesses_with_streets.csv file\n",
    "businesses_with_streets = pd.read_csv('../data/processed/businesses_with_streets.csv')\n",
    "\n",
    "# Get osm_ids with missing area in businesses_data\n",
    "missing_area_osm_ids = businesses_data[businesses_data['area'].isnull()]['osm_id']\n",
    "\n",
    "# Filter the other file for these osm_ids\n",
    "matching_rows = businesses_with_streets[businesses_with_streets['osm_id'].isin(missing_area_osm_ids)]\n",
    "\n",
    "# Check for available location data\n",
    "has_geometry = matching_rows['geometry'].notnull().sum()\n",
    "has_street_name = matching_rows['street_name'].notnull().sum()\n",
    "\n",
    "print(f\"{has_geometry} out of {len(missing_area_osm_ids)} have geometry.\")\n",
    "print(f\"{has_street_name} out of {len(missing_area_osm_ids)} have street_name.\")"
   ]
  },
  {
   "cell_type": "markdown",
   "id": "715d8e6a",
   "metadata": {},
   "source": [
    "### So with geometry value we should be able to map them to the correct Boroughs"
   ]
  },
  {
   "cell_type": "code",
   "execution_count": 23,
   "id": "474900fe",
   "metadata": {},
   "outputs": [
    {
     "name": "stdout",
     "output_type": "stream",
     "text": [
      "Computed Inner London: 2916173\n",
      "Reported Inner London: 3231901\n",
      "Difference: -315728\n",
      "\n",
      "Computed Outer London: 5257768\n",
      "Reported Outer London: 4942040\n",
      "Difference: 315728\n",
      "\n",
      "Cpmputed Greater London: 8173941\n",
      "Reported Greater London: 8173941\n",
      "Difference: 0\n"
     ]
    }
   ],
   "source": [
    "# Inner/ Outer/ Greater London are subsets of boroughs to indicate the total population over many/all boroughs.\n",
    "# https://commons.wikimedia.org/wiki/File:Outer_Inner_London_Boroughs.png\n",
    "# Define Inner London boroughs\n",
    "inner_london_boroughs = {\n",
    "    \"Camden\", \"Greenwich\", \"Hackney\", \"Hammersmith and Fulham\", \"Islington\",\n",
    "    \"Kensington and Chelsea\", \"Lambeth\", \"Lewisham\", \"Southwark\",\n",
    "    \"Tower Hamlets\", \"Wandsworth\", \"Westminster\"\n",
    "}\n",
    "\n",
    "# Clean whitespace\n",
    "population_data[\"area_name\"] = population_data[\"area_name\"].str.strip()\n",
    "\n",
    "# Exclude aggregate rows from manual sum calculation\n",
    "boroughs_only = population_data[\n",
    "    ~population_data[\"area_name\"].isin([\"Inner London\", \"Outer London\", \"Greater London\"])\n",
    "]\n",
    "\n",
    "# Compute manual inner and outer London sums\n",
    "manual_inner = boroughs_only[\n",
    "    boroughs_only[\"area_name\"].isin(inner_london_boroughs)\n",
    "][\"census_2011\"].sum()\n",
    "\n",
    "manual_outer = boroughs_only[\n",
    "    ~boroughs_only[\"area_name\"].isin(inner_london_boroughs)\n",
    "][\"census_2011\"].sum()\n",
    "\n",
    "# Get reported values from dataset\n",
    "reported_inner = population_data.loc[\n",
    "    population_data[\"area_name\"] == \"Inner London\", \"census_2011\"\n",
    "].values[0]\n",
    "\n",
    "reported_outer = population_data.loc[\n",
    "    population_data[\"area_name\"] == \"Outer London\", \"census_2011\"\n",
    "].values[0]\n",
    "\n",
    "reported_total = population_data.loc[\n",
    "    population_data[\"area_name\"] == \"Greater London\", \"census_2011\"\n",
    "].values[0]\n",
    "\n",
    "# Print and compare\n",
    "print(f\"Computed Inner London: {manual_inner}\")\n",
    "print(f\"Reported Inner London: {reported_inner}\")\n",
    "print(\"Difference:\", manual_inner - reported_inner)\n",
    "\n",
    "print(f\"\\nComputed Outer London: {manual_outer}\")\n",
    "print(f\"Reported Outer London: {reported_outer}\")\n",
    "print(\"Difference:\", manual_outer - reported_outer)\n",
    "\n",
    "print(f\"\\nCpmputed Greater London: {manual_inner + manual_outer}\")\n",
    "print(f\"Reported Greater London: {reported_total}\")\n",
    "print(\"Difference:\", (manual_inner + manual_outer) - reported_total)"
   ]
  },
  {
   "cell_type": "markdown",
   "id": "a328bfc1",
   "metadata": {},
   "source": [
    "### Probably there are some differing conceptions of what Inner and Outer London is exactly. \n",
    "### Doesn't matter to us, the totals seem to match so the data is at least internally coherent. \n",
    "### Exclude the Inner, Outer and Greater London locations from the graph nodes for now.  "
   ]
  }
 ],
 "metadata": {
  "kernelspec": {
   "display_name": "3.12.8",
   "language": "python",
   "name": "python3"
  },
  "language_info": {
   "codemirror_mode": {
    "name": "ipython",
    "version": 3
   },
   "file_extension": ".py",
   "mimetype": "text/x-python",
   "name": "python",
   "nbconvert_exporter": "python",
   "pygments_lexer": "ipython3",
   "version": "3.12.8"
  }
 },
 "nbformat": 4,
 "nbformat_minor": 5
}
