{
 "cells": [
  {
   "cell_type": "code",
   "execution_count": 1,
   "id": "0fdd1f83",
   "metadata": {},
   "outputs": [],
   "source": [
    "import pandas as pd"
   ]
  },
  {
   "cell_type": "code",
   "execution_count": 2,
   "id": "724b0736",
   "metadata": {},
   "outputs": [],
   "source": [
    "businesses_data_file_path = '../data/processed/businesses_with_boroughs.csv'\n",
    "population_data_file_path = '../data/processed/population_by_borough.csv'"
   ]
  },
  {
   "cell_type": "code",
   "execution_count": 3,
   "id": "4bdb263a",
   "metadata": {},
   "outputs": [],
   "source": [
    "businesses_data = pd.read_csv(businesses_data_file_path)\n",
    "population_data = pd.read_csv(population_data_file_path)"
   ]
  },
  {
   "cell_type": "code",
   "execution_count": 11,
   "id": "34a07dd8",
   "metadata": {},
   "outputs": [],
   "source": [
    "businesses_data_boroughs = businesses_data['area'].unique()\n",
    "population_data_boroughs = population_data['Area Name'].unique()"
   ]
  },
  {
   "cell_type": "code",
   "execution_count": 16,
   "id": "4dfe9060",
   "metadata": {},
   "outputs": [
    {
     "name": "stdout",
     "output_type": "stream",
     "text": [
      "33 boroughs are present in both datasets (out of 34 in businesses data and 36 in population data):\n"
     ]
    }
   ],
   "source": [
    "overlapping_boroughs = set(businesses_data_boroughs).intersection(set(population_data_boroughs))\n",
    "print(f'{len(overlapping_boroughs)} boroughs are present in both datasets (out of {len(businesses_data_boroughs)} in businesses data and {len(population_data_boroughs)} in population data):')"
   ]
  },
  {
   "cell_type": "code",
   "execution_count": 17,
   "id": "520a87be",
   "metadata": {},
   "outputs": [
    {
     "name": "stdout",
     "output_type": "stream",
     "text": [
      "4 boroughs are not present in both datasets:\n",
      "Greater London\n",
      "Outer London\n",
      "nan\n",
      "Inner London\n"
     ]
    }
   ],
   "source": [
    "non_overlapping_boroughs = set(businesses_data_boroughs).symmetric_difference(set(population_data_boroughs))\n",
    "print(f'{len(non_overlapping_boroughs)} boroughs are not present in both datasets:')\n",
    "for borough in non_overlapping_boroughs:\n",
    "    print(borough)\n"
   ]
  }
 ],
 "metadata": {
  "kernelspec": {
   "display_name": ".venv",
   "language": "python",
   "name": "python3"
  },
  "language_info": {
   "codemirror_mode": {
    "name": "ipython",
    "version": 3
   },
   "file_extension": ".py",
   "mimetype": "text/x-python",
   "name": "python",
   "nbconvert_exporter": "python",
   "pygments_lexer": "ipython3",
   "version": "3.10.14"
  }
 },
 "nbformat": 4,
 "nbformat_minor": 5
}
