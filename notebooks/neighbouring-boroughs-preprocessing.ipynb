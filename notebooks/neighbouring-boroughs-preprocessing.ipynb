{
 "cells": [
  {
   "cell_type": "markdown",
   "id": "16b7df83",
   "metadata": {},
   "source": [
    "### Small notebook for creating a dataset containing which boroughs are adjacent to one another\n",
    "### This is then used to create relationships in the KG"
   ]
  },
  {
   "cell_type": "code",
   "execution_count": 6,
   "id": "18a98dfc",
   "metadata": {},
   "outputs": [
    {
     "data": {
      "application/vnd.microsoft.datawrangler.viewer.v0+json": {
       "columns": [
        {
         "name": "index",
         "rawType": "int64",
         "type": "integer"
        },
        {
         "name": "borough1",
         "rawType": "object",
         "type": "string"
        },
        {
         "name": "borough2",
         "rawType": "object",
         "type": "string"
        }
       ],
       "ref": "9db79501-5b0b-4db8-919c-d05428f1bd3b",
       "rows": [
        [
         "0",
         "Kingston upon Thames",
         "Sutton"
        ],
        [
         "1",
         "Kingston upon Thames",
         "Richmond upon Thames"
        ],
        [
         "2",
         "Kingston upon Thames",
         "Merton"
        ],
        [
         "3",
         "Kingston upon Thames",
         "Wandsworth"
        ],
        [
         "4",
         "Croydon",
         "Bromley"
        ],
        [
         "5",
         "Croydon",
         "Lambeth"
        ],
        [
         "6",
         "Croydon",
         "Sutton"
        ],
        [
         "7",
         "Croydon",
         "Merton"
        ],
        [
         "8",
         "Bromley",
         "Croydon"
        ],
        [
         "9",
         "Bromley",
         "Lambeth"
        ],
        [
         "10",
         "Bromley",
         "Southwark"
        ],
        [
         "11",
         "Bromley",
         "Lewisham"
        ],
        [
         "12",
         "Bromley",
         "Greenwich"
        ],
        [
         "13",
         "Bromley",
         "Bexley"
        ],
        [
         "14",
         "Hounslow",
         "Ealing"
        ],
        [
         "15",
         "Hounslow",
         "Hillingdon"
        ],
        [
         "16",
         "Hounslow",
         "Richmond upon Thames"
        ],
        [
         "17",
         "Hounslow",
         "Hammersmith and Fulham"
        ],
        [
         "18",
         "Ealing",
         "Hounslow"
        ],
        [
         "19",
         "Ealing",
         "Hillingdon"
        ],
        [
         "20",
         "Ealing",
         "Harrow"
        ],
        [
         "21",
         "Ealing",
         "Brent"
        ],
        [
         "22",
         "Ealing",
         "Hammersmith and Fulham"
        ],
        [
         "23",
         "Havering",
         "Redbridge"
        ],
        [
         "24",
         "Havering",
         "Barking and Dagenham"
        ],
        [
         "25",
         "Hillingdon",
         "Hounslow"
        ],
        [
         "26",
         "Hillingdon",
         "Ealing"
        ],
        [
         "27",
         "Hillingdon",
         "Harrow"
        ],
        [
         "28",
         "Harrow",
         "Ealing"
        ],
        [
         "29",
         "Harrow",
         "Hillingdon"
        ],
        [
         "30",
         "Harrow",
         "Brent"
        ],
        [
         "31",
         "Harrow",
         "Barnet"
        ],
        [
         "32",
         "Brent",
         "Ealing"
        ],
        [
         "33",
         "Brent",
         "Harrow"
        ],
        [
         "34",
         "Brent",
         "Barnet"
        ],
        [
         "35",
         "Brent",
         "Hammersmith and Fulham"
        ],
        [
         "36",
         "Brent",
         "Kensington and Chelsea"
        ],
        [
         "37",
         "Brent",
         "Westminster"
        ],
        [
         "38",
         "Brent",
         "Camden"
        ],
        [
         "39",
         "Barnet",
         "Harrow"
        ],
        [
         "40",
         "Barnet",
         "Brent"
        ],
        [
         "41",
         "Barnet",
         "Enfield"
        ],
        [
         "42",
         "Barnet",
         "Camden"
        ],
        [
         "43",
         "Barnet",
         "Haringey"
        ],
        [
         "44",
         "Lambeth",
         "Croydon"
        ],
        [
         "45",
         "Lambeth",
         "Bromley"
        ],
        [
         "46",
         "Lambeth",
         "Southwark"
        ],
        [
         "47",
         "Lambeth",
         "Merton"
        ],
        [
         "48",
         "Lambeth",
         "Wandsworth"
        ],
        [
         "49",
         "Southwark",
         "Bromley"
        ]
       ],
       "shape": {
        "columns": 2,
        "rows": 136
       }
      },
      "text/html": [
       "<div>\n",
       "<style scoped>\n",
       "    .dataframe tbody tr th:only-of-type {\n",
       "        vertical-align: middle;\n",
       "    }\n",
       "\n",
       "    .dataframe tbody tr th {\n",
       "        vertical-align: top;\n",
       "    }\n",
       "\n",
       "    .dataframe thead th {\n",
       "        text-align: right;\n",
       "    }\n",
       "</style>\n",
       "<table border=\"1\" class=\"dataframe\">\n",
       "  <thead>\n",
       "    <tr style=\"text-align: right;\">\n",
       "      <th></th>\n",
       "      <th>borough1</th>\n",
       "      <th>borough2</th>\n",
       "    </tr>\n",
       "  </thead>\n",
       "  <tbody>\n",
       "    <tr>\n",
       "      <th>0</th>\n",
       "      <td>Kingston upon Thames</td>\n",
       "      <td>Sutton</td>\n",
       "    </tr>\n",
       "    <tr>\n",
       "      <th>1</th>\n",
       "      <td>Kingston upon Thames</td>\n",
       "      <td>Richmond upon Thames</td>\n",
       "    </tr>\n",
       "    <tr>\n",
       "      <th>2</th>\n",
       "      <td>Kingston upon Thames</td>\n",
       "      <td>Merton</td>\n",
       "    </tr>\n",
       "    <tr>\n",
       "      <th>3</th>\n",
       "      <td>Kingston upon Thames</td>\n",
       "      <td>Wandsworth</td>\n",
       "    </tr>\n",
       "    <tr>\n",
       "      <th>4</th>\n",
       "      <td>Croydon</td>\n",
       "      <td>Bromley</td>\n",
       "    </tr>\n",
       "    <tr>\n",
       "      <th>...</th>\n",
       "      <td>...</td>\n",
       "      <td>...</td>\n",
       "    </tr>\n",
       "    <tr>\n",
       "      <th>131</th>\n",
       "      <td>City of London</td>\n",
       "      <td>Westminster</td>\n",
       "    </tr>\n",
       "    <tr>\n",
       "      <th>132</th>\n",
       "      <td>City of London</td>\n",
       "      <td>Camden</td>\n",
       "    </tr>\n",
       "    <tr>\n",
       "      <th>133</th>\n",
       "      <td>City of London</td>\n",
       "      <td>Tower Hamlets</td>\n",
       "    </tr>\n",
       "    <tr>\n",
       "      <th>134</th>\n",
       "      <td>City of London</td>\n",
       "      <td>Islington</td>\n",
       "    </tr>\n",
       "    <tr>\n",
       "      <th>135</th>\n",
       "      <td>City of London</td>\n",
       "      <td>Hackney</td>\n",
       "    </tr>\n",
       "  </tbody>\n",
       "</table>\n",
       "<p>136 rows × 2 columns</p>\n",
       "</div>"
      ],
      "text/plain": [
       "                 borough1              borough2\n",
       "0    Kingston upon Thames                Sutton\n",
       "1    Kingston upon Thames  Richmond upon Thames\n",
       "2    Kingston upon Thames                Merton\n",
       "3    Kingston upon Thames            Wandsworth\n",
       "4                 Croydon               Bromley\n",
       "..                    ...                   ...\n",
       "131        City of London           Westminster\n",
       "132        City of London                Camden\n",
       "133        City of London         Tower Hamlets\n",
       "134        City of London             Islington\n",
       "135        City of London               Hackney\n",
       "\n",
       "[136 rows x 2 columns]"
      ]
     },
     "execution_count": 6,
     "metadata": {},
     "output_type": "execute_result"
    }
   ],
   "source": [
    "import geopandas as gpd\n",
    "import pandas as pd\n",
    "\n",
    "# Path to your shapefile (do not include the file extension, just the base name)\n",
    "shapefile_path = r'../data/raw/gis-boundaries-london/ESRI/London_Borough_Excluding_MHW.shp'\n",
    "\n",
    "# Read the shapefile\n",
    "gdf = gpd.read_file(shapefile_path)\n",
    "\n",
    "# Ensure the borough name column is correct (often 'NAME' or similar)\n",
    "borough_col = 'NAME'  # Change if your column is named differently\n",
    "\n",
    "# Compute adjacency\n",
    "rows = []\n",
    "for idx, borough in gdf.iterrows():\n",
    "    neighbours = gdf[gdf.geometry.touches(borough.geometry)]\n",
    "    for _, neighbour in neighbours.iterrows():\n",
    "        rows.append({\n",
    "            \"borough1\": borough[borough_col],\n",
    "            \"borough2\": neighbour[borough_col]\n",
    "        })\n",
    "\n",
    "\n",
    "df = pd.DataFrame(rows)\n",
    "df"
   ]
  },
  {
   "cell_type": "code",
   "execution_count": 7,
   "id": "19cb4a59",
   "metadata": {},
   "outputs": [],
   "source": [
    "# Remove duplicates (since adjacency is symmetric)\n",
    "df = df[df['borough1'] < df['borough2']]  # Only keep one direction\n",
    "\n",
    "# Save to CSV\n",
    "df.to_csv(\"../data/processed/neighbouring_boroughs.csv\", index=False)"
   ]
  }
 ],
 "metadata": {
  "kernelspec": {
   "display_name": "3.12.8",
   "language": "python",
   "name": "python3"
  },
  "language_info": {
   "codemirror_mode": {
    "name": "ipython",
    "version": 3
   },
   "file_extension": ".py",
   "mimetype": "text/x-python",
   "name": "python",
   "nbconvert_exporter": "python",
   "pygments_lexer": "ipython3",
   "version": "3.12.8"
  }
 },
 "nbformat": 4,
 "nbformat_minor": 5
}
